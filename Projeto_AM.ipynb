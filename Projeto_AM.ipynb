{
 "cells": [
  {
   "cell_type": "markdown",
   "metadata": {},
   "source": [
    "# Projeto Aprendizado de Máquina 2019.2\n",
    "\n",
    "O objetivo deste projeto é aplicar técnicas de Machine Learning em uma base de dados. \n",
    "\n",
    "Utilizando a base de dados \"wine-quality\" decidimos testar duas abordagens, a primeira foi fazer uma preparação nos dados de forma a definirmos um valor binário para a qualidade dos vinhos, para que pudéssemos aplicar um modelo de classificação, no caso Regressão Logística.\n",
    "A segunda abordagem foi manter a base original, utilizando Regressão Linear, de forma a predizer o valor atribuído na variável \"Qualidade\" dos vinhos, que varia de 3 a 8.\n",
    "\n",
    "O código e os resultados são apresentados abaixo"
   ]
  },
  {
   "cell_type": "code",
   "execution_count": 1,
   "metadata": {
    "collapsed": true
   },
   "outputs": [],
   "source": [
    "#importação das bibliotecas necessárias\n",
    "\n",
    "import pandas as pd\n",
    "import numpy as np\n",
    "import warnings\n",
    "import matplotlib.pyplot as plt\n",
    "from math import sqrt\n",
    "from sklearn.model_selection import train_test_split\n",
    "from sklearn.model_selection import cross_val_score\n",
    "from sklearn.metrics import r2_score\n",
    "from sklearn.metrics import accuracy_score\n",
    "from sklearn.metrics import roc_curve\n",
    "from sklearn.metrics import mean_squared_error\n",
    "from sklearn.linear_model import LogisticRegression\n",
    "from sklearn.linear_model import LinearRegression\n",
    "\n",
    "#desativando os warnings devido aos DeprecationWarning\n",
    "warnings.filterwarnings(\"ignore\")\n"
   ]
  },
  {
   "cell_type": "markdown",
   "metadata": {},
   "source": [
    "Importando o arquivo e imprimindo estrutura das colunas"
   ]
  },
  {
   "cell_type": "code",
   "execution_count": 2,
   "metadata": {},
   "outputs": [
    {
     "data": {
      "text/plain": [
       "Index(['fixed acidity', 'volatile acidity', 'citric acid', 'residual sugar',\n",
       "       'chlorides', 'free sulfur dioxide', 'total sulfur dioxide', 'density',\n",
       "       'pH', 'sulphates', 'alcohol', 'quality'],\n",
       "      dtype='object')"
      ]
     },
     "execution_count": 2,
     "metadata": {},
     "output_type": "execute_result"
    }
   ],
   "source": [
    "file_path = '..input\\winequality-red.csv'\n",
    "data = pd.read_csv(file_path) \n",
    "data.columns"
   ]
  },
  {
   "cell_type": "markdown",
   "metadata": {},
   "source": [
    "# Regressão Logística\n",
    "\n",
    "Modelo em Regressão Logística para classicar qualidade dos vinhos entre boa ou ruim"
   ]
  },
  {
   "cell_type": "code",
   "execution_count": 3,
   "metadata": {
    "collapsed": true
   },
   "outputs": [],
   "source": [
    "# Criação de uma coluna binária para classificação com regressão logística\n",
    "# Critério utilizado: se a qualidade for maior do que 5 é considerada boa (1), caso contrário ruim (0)\n",
    "\n",
    "data['quality_binary'] = (data['quality'] > 5)*1\n"
   ]
  },
  {
   "cell_type": "markdown",
   "metadata": {},
   "source": [
    "Selecionando as variáveis de entrada, as chamadas \"features\" e a variável alvo (target), que queremos classificar \n"
   ]
  },
  {
   "cell_type": "code",
   "execution_count": 4,
   "metadata": {
    "collapsed": true
   },
   "outputs": [],
   "source": [
    "features = ['fixed acidity','volatile acidity','citric acid','residual sugar','chlorides',\n",
    "            'free sulfur dioxide','total sulfur dioxide','density','pH','sulphates','alcohol']\n",
    "target = ['quality_binary']\n",
    "\n",
    "X = data[features]\n",
    "y = data[target]"
   ]
  },
  {
   "cell_type": "markdown",
   "metadata": {},
   "source": [
    "Dividindo base em treino e teste \"manualmente\" e treinando o modelo com regressão logística"
   ]
  },
  {
   "cell_type": "code",
   "execution_count": 5,
   "metadata": {},
   "outputs": [
    {
     "data": {
      "text/plain": [
       "LogisticRegression(C=1.0, class_weight=None, dual=False, fit_intercept=True,\n",
       "          intercept_scaling=1, max_iter=100, multi_class='ovr', n_jobs=1,\n",
       "          penalty='l2', random_state=None, solver='liblinear', tol=0.0001,\n",
       "          verbose=0, warm_start=False)"
      ]
     },
     "execution_count": 5,
     "metadata": {},
     "output_type": "execute_result"
    }
   ],
   "source": [
    "X_train, X_test, y_train, y_test = train_test_split(X, y, test_size=0.33, random_state=1)\n",
    "\n",
    "logistic_regressor = LogisticRegression()\n",
    "logistic_regressor.fit(X_train, y_train)"
   ]
  },
  {
   "cell_type": "markdown",
   "metadata": {},
   "source": [
    "Predição no conjunto de teste com regressão logística"
   ]
  },
  {
   "cell_type": "code",
   "execution_count": 6,
   "metadata": {},
   "outputs": [
    {
     "name": "stdout",
     "output_type": "stream",
     "text": [
      "5 itens preditos:  [0 0 1 1 1]\n",
      "5 itens reais:\n",
      "       quality_binary\n",
      "75                 0\n",
      "1283               1\n",
      "408                1\n",
      "1281               1\n",
      "1118               1\n",
      "\n",
      "\n",
      "Acuracia da Regressão Logística:  0.75\n",
      "Erro R² da Regressão Logística:  -0.0036866359447\n"
     ]
    }
   ],
   "source": [
    "prediction = logistic_regressor.predict(X_test)\n",
    "print('5 itens preditos: ', prediction[:5])\n",
    "print('5 itens reais:\\n', y_test[:5])\n",
    "print('\\n')\n",
    "acuracia = accuracy_score(y_true=y_test, y_pred=prediction)\n",
    "\n",
    "r2 = r2_score(y_true=y_test, y_pred=prediction)\n",
    "\n",
    "print('Acuracia da Regressão Logística: ', acuracia)\n",
    "print('Erro R² da Regressão Logística: ', r2)\n"
   ]
  },
  {
   "cell_type": "markdown",
   "metadata": {},
   "source": [
    "Curva ROC para avaliação do modelo"
   ]
  },
  {
   "cell_type": "code",
   "execution_count": 7,
   "metadata": {},
   "outputs": [
    {
     "data": {
      "image/png": "[encoded data removed]",
      "text/plain": [
       "<matplotlib.figure.Figure at 0x22091e93f28>"
      ]
     },
     "metadata": {},
     "output_type": "display_data"
    }
   ],
   "source": [
    "fpr, tpr, thresholds = roc_curve(y_test, prediction)\n",
    "\n",
    "plt.plot([0, 1], [0, 1], 'k--')\n",
    "plt.plot(fpr, tpr)\n",
    "plt.xlabel('Taxa de Falso Positivo')\n",
    "plt.ylabel('Taxa de Verdadeiro Positivo')\n",
    "plt.title('ROC')\n",
    "plt.show()"
   ]
  },
  {
   "cell_type": "markdown",
   "metadata": {},
   "source": [
    "Utilizando validação cruzada, com k=7, como outra abordagem para divisão entre treino e teste e aplicando regressão logística em cada conjunto\n",
    "\n",
    "O score utilizado foi R², mesmo utilizado anteriormente\n"
   ]
  },
  {
   "cell_type": "code",
   "execution_count": 8,
   "metadata": {},
   "outputs": [
    {
     "name": "stdout",
     "output_type": "stream",
     "text": [
      "Score para cada conjunto:  [-0.46797356  0.19304428 -0.41045469  0.36529539 -0.16362512  0.11846582\n",
      " -0.0754717 ]\n",
      "Score médio:  -0.0629599383261\n"
     ]
    }
   ],
   "source": [
    "k = 7\n",
    "cv_result = cross_val_score(logistic_regressor, X, y, cv=k, scoring = \"r2\") \n",
    "print('Score para cada conjunto: ',cv_result)\n",
    "print('Score médio: ',np.sum(cv_result)/k)"
   ]
  },
  {
   "cell_type": "markdown",
   "metadata": {},
   "source": [
    "# Regressão Linear\n",
    "\n",
    "Neste bloco, utilizamos regressão linear para predizer a qualidade do vinho de 3 a 8, valores contínuos"
   ]
  },
  {
   "cell_type": "code",
   "execution_count": 9,
   "metadata": {
    "collapsed": true
   },
   "outputs": [],
   "source": [
    "features = ['fixed acidity','volatile acidity','citric acid','residual sugar','chlorides',\n",
    "            'free sulfur dioxide','total sulfur dioxide','density','pH','sulphates','alcohol']\n",
    "target = ['quality']\n",
    "\n",
    "X = data[features]\n",
    "y = data[target]"
   ]
  },
  {
   "cell_type": "markdown",
   "metadata": {},
   "source": [
    "Treinando o modelo com regressão linear"
   ]
  },
  {
   "cell_type": "code",
   "execution_count": 10,
   "metadata": {},
   "outputs": [
    {
     "data": {
      "text/plain": [
       "LinearRegression(copy_X=True, fit_intercept=True, n_jobs=1, normalize=False)"
      ]
     },
     "execution_count": 10,
     "metadata": {},
     "output_type": "execute_result"
    }
   ],
   "source": [
    "X_train, X_test, y_train, y_test = train_test_split(X, y, test_size=0.33, random_state=3)\n",
    "\n",
    "linear_regressor = LinearRegression()\n",
    "linear_regressor.fit(X_train, y_train)"
   ]
  },
  {
   "cell_type": "code",
   "execution_count": 11,
   "metadata": {},
   "outputs": [
    {
     "name": "stdout",
     "output_type": "stream",
     "text": [
      "5 itens preditos:\n",
      "  [[ 5.09084545]\n",
      " [ 5.60581527]\n",
      " [ 5.88972495]\n",
      " [ 6.13508667]\n",
      " [ 4.99945307]] \n",
      "\n",
      "5 itens reais:\n",
      "       quality\n",
      "147         5\n",
      "937         4\n",
      "877         6\n",
      "1000        7\n",
      "73          4\n"
     ]
    }
   ],
   "source": [
    "prediction = linear_regressor.predict(X_test)\n",
    "print('5 itens preditos:\\n ', prediction[:5],'\\n')\n",
    "print('5 itens reais:\\n', y_test[:5])\n"
   ]
  },
  {
   "cell_type": "markdown",
   "metadata": {},
   "source": [
    "O erro utilizado para Regressão Linear foi o  MSE (Mean Squared Error)"
   ]
  },
  {
   "cell_type": "code",
   "execution_count": 12,
   "metadata": {},
   "outputs": [
    {
     "name": "stdout",
     "output_type": "stream",
     "text": [
      "0.6357482138958115\n"
     ]
    }
   ],
   "source": [
    "error = sqrt(mean_squared_error(y_true=y_test, y_pred=prediction))\n",
    "print(error)"
   ]
  },
  {
   "cell_type": "markdown",
   "metadata": {},
   "source": [
    "# Conclusão\n",
    "\n",
    "Ao final desse projeto pudemos aplicar praticamente algumas das técnicas vistas em aula. O ponto interessante foi que conseguimos aplicar duas técnicas que visam duas abordagens diferentes: regressão e classificação, sendo que isso foi possível através de uma pequena transformação nos dados para considerar a variável alvo como binária, para ser utilizada no modelo de classificação.\n",
    "Além disso, aplicamos as métricas de desempenho, de forma que conseguimos verificar que os modelos funcionaram razoavelmente bem, obtendo resultados dentro do esperado."
   ]
  }
 ],
 "metadata": {
  "kernelspec": {
   "display_name": "Python 3",
   "language": "python",
   "name": "python3"
  },
  "language_info": {
   "codemirror_mode": {
    "name": "ipython",
    "version": 3
   },
   "file_extension": ".py",
   "mimetype": "text/x-python",
   "name": "python",
   "nbconvert_exporter": "python",
   "pygments_lexer": "ipython3",
   "version": "3.6.7"
  }
 },
 "nbformat": 4,
 "nbformat_minor": 2
}
